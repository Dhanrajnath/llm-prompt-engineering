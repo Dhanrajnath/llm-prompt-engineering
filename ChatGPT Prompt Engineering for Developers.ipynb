{
 "cells": [
  {
   "cell_type": "markdown",
   "id": "557a9f83",
   "metadata": {},
   "source": [
    "# Prompt Engineering for Developers"
   ]
  },
  {
   "cell_type": "markdown",
   "id": "c27ac7e3",
   "metadata": {},
   "source": [
    "## 1) Introduction"
   ]
  },
  {
   "cell_type": "markdown",
   "id": "4f1c5b66",
   "metadata": {},
   "source": [
    "## What are Large Language Models (LLMs) ?\n",
    "- A large language model (LLM) is a type of artificial intelligence (AI) algorithm that uses deep learning techniques and massively large data sets to understand, summarize, generate and predict new content. The term generative AI also is closely connected with LLMs, which are, in fact, a type of generative AI that has been specifically architected to help generate text-based content.\n",
    "\n",
    "## Two types of Large Language Models (LLMs)\n",
    "- Base LLM\n",
    "- Instruction Tuned LLM\n",
    "\n",
    "### Base LLM\n",
    " - predicts next word, based on text training data.\n",
    " \n",
    "    - example: What is the capital of France?\n",
    "              What is France's largest city?\n",
    "              What is France's population?\n",
    "              What is the currency of France?\n",
    "    \n",
    "### Instruction Tuned LLM\n",
    " - Tries to follow instructions.\n",
    " - Fine-tune on instructions and good attempts at following those instructions.\n",
    " - A technique used in this LLM --> RLHF: Reinforcement Learning with Human Feedback.\n",
    " - This LLM have been trained to be Helpful, Honest, Harmless.\n",
    " \n",
    "     - example: What is the capital of France?\n",
    "                The capital of France is Paris.\n",
    "                "
   ]
  },
  {
   "cell_type": "code",
   "execution_count": 2,
   "id": "e8300e22",
   "metadata": {},
   "outputs": [
    {
     "name": "stdout",
     "output_type": "stream",
     "text": [
      "Prompt engineering for developers\n"
     ]
    }
   ],
   "source": [
    "print('Prompt engineering for developers')"
   ]
  },
  {
   "cell_type": "markdown",
   "id": "4c575fa8",
   "metadata": {},
   "source": [
    "## 2) Guidelines"
   ]
  },
  {
   "cell_type": "code",
   "execution_count": null,
   "id": "ff9f3b0a",
   "metadata": {},
   "outputs": [],
   "source": []
  }
 ],
 "metadata": {
  "kernelspec": {
   "display_name": "Python 3 (ipykernel)",
   "language": "python",
   "name": "python3"
  },
  "language_info": {
   "codemirror_mode": {
    "name": "ipython",
    "version": 3
   },
   "file_extension": ".py",
   "mimetype": "text/x-python",
   "name": "python",
   "nbconvert_exporter": "python",
   "pygments_lexer": "ipython3",
   "version": "3.8.10"
  }
 },
 "nbformat": 4,
 "nbformat_minor": 5
}
